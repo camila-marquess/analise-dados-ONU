{
 "cells": [
  {
   "cell_type": "markdown",
   "metadata": {},
   "source": [
    "# Como fazer uma simples análise de dados com python? \n",
    "\n",
    "Neste post, eu farei uma análise dos dados de votação de dois conselhos da ONU - o Conselho de Segurança e da Assembleia Geral - de 1946 a 2021. Este dataset foi obtido no kaggle, você pode acessá-lo no link: https://www.kaggle.com/datasets/guybarash/un-resolutions\n",
    "\n",
    "Quando tenho que analisar um dataset, o primeiro passo que faço é ver quais colunas temos no dataset e criar uma série de perguntas que quero responder com esses dados. É nesta etapa de exploração dos dados, que vamos investigar os nossos dados.\n",
    "\n",
    "No caso deste dataset, algumas das perguntas que formulei foram: \n",
    "\n",
    "* Qual a quantidade de resoluções por ano?\n",
    "* Qual a quantidade de resoluções por ano e por Conselho?\n",
    "* Em qual ano tivemos mais resoluções? De qual conselho? "
   ]
  },
  {
   "cell_type": "code",
   "execution_count": 68,
   "metadata": {},
   "outputs": [
    {
     "name": "stderr",
     "output_type": "stream",
     "text": [
      "C:\\Users\\Camila Marques\\AppData\\Local\\Temp\\ipykernel_9784\\2971113715.py:8: FutureWarning: Passing a negative integer is deprecated in version 1.0 and will not be supported in future version. Instead, use None to not limit the column width.\n",
      "  pd.set_option('display.max_colwidth', -1)\n"
     ]
    }
   ],
   "source": [
    "# Pandas é a principal biblioteca utilizada para trabalhar com datasets em python.\n",
    "# Imports das bibliotecas necessárias para a análise: \n",
    "\n",
    "import pandas as pd \n",
    "pd.get_option(\"display.max_columns\") # Serve para mostrar todas as colunas\n",
    "pd.options.display.max_rows = 200    # Serve para definir o máximo de linhas que queremos visualizar.\n",
    "pd.set_option('display.width', None)\n",
    "pd.set_option('display.max_colwidth', -1)"
   ]
  },
  {
   "cell_type": "code",
   "execution_count": 19,
   "metadata": {},
   "outputs": [],
   "source": [
    "# Lendo o csv que está no caminho do meu computador [aqui você deve colocar o caminho do seu computador]\n",
    "# e passando as colunas que quero trabalhar (lembrando que não é necessário passar as colunas que queremos trabalhar no dataset, foi apenas uma opção minha):\n",
    "\n",
    "col_nums = [0,1,2,3,4,5,6,7,8]\n",
    "\n",
    "data = pd.read_csv(\"C:/repositorio_blog/UN DATA.csv\", usecols = col_nums)"
   ]
  },
  {
   "cell_type": "code",
   "execution_count": 7,
   "metadata": {},
   "outputs": [
    {
     "data": {
      "text/html": [
       "<div>\n",
       "<style scoped>\n",
       "    .dataframe tbody tr th:only-of-type {\n",
       "        vertical-align: middle;\n",
       "    }\n",
       "\n",
       "    .dataframe tbody tr th {\n",
       "        vertical-align: top;\n",
       "    }\n",
       "\n",
       "    .dataframe thead th {\n",
       "        text-align: right;\n",
       "    }\n",
       "</style>\n",
       "<table border=\"1\" class=\"dataframe\">\n",
       "  <thead>\n",
       "    <tr style=\"text-align: right;\">\n",
       "      <th></th>\n",
       "      <th>Council</th>\n",
       "      <th>Date</th>\n",
       "      <th>Title</th>\n",
       "      <th>Resolution</th>\n",
       "      <th>TOTAL VOTES</th>\n",
       "      <th>NO-VOTE COUNT</th>\n",
       "      <th>ABSENT COUNT</th>\n",
       "      <th>NO COUNT</th>\n",
       "      <th>YES COUNT</th>\n",
       "    </tr>\n",
       "  </thead>\n",
       "  <tbody>\n",
       "    <tr>\n",
       "      <th>0</th>\n",
       "      <td>Security Council</td>\n",
       "      <td>2016-12-13</td>\n",
       "      <td>Security Council resolution 2323 (2016) [on ex...</td>\n",
       "      <td>S/RES/2323(2016)</td>\n",
       "      <td>15</td>\n",
       "      <td>0</td>\n",
       "      <td>0</td>\n",
       "      <td>0</td>\n",
       "      <td>15</td>\n",
       "    </tr>\n",
       "    <tr>\n",
       "      <th>1</th>\n",
       "      <td>Security Council</td>\n",
       "      <td>2020-06-22</td>\n",
       "      <td>Security Council resolution 2527 (2020) [on ex...</td>\n",
       "      <td>S/RES/2527(2020)</td>\n",
       "      <td>15</td>\n",
       "      <td>0</td>\n",
       "      <td>0</td>\n",
       "      <td>0</td>\n",
       "      <td>15</td>\n",
       "    </tr>\n",
       "  </tbody>\n",
       "</table>\n",
       "</div>"
      ],
      "text/plain": [
       "            Council        Date  \\\n",
       "0  Security Council  2016-12-13   \n",
       "1  Security Council  2020-06-22   \n",
       "\n",
       "                                               Title        Resolution  \\\n",
       "0  Security Council resolution 2323 (2016) [on ex...  S/RES/2323(2016)   \n",
       "1  Security Council resolution 2527 (2020) [on ex...  S/RES/2527(2020)   \n",
       "\n",
       "   TOTAL VOTES  NO-VOTE COUNT  ABSENT COUNT  NO COUNT  YES COUNT  \n",
       "0           15              0             0         0         15  \n",
       "1           15              0             0         0         15  "
      ]
     },
     "execution_count": 7,
     "metadata": {},
     "output_type": "execute_result"
    }
   ],
   "source": [
    "# Olhando as duas primeiras linhas do nosso dataset: \n",
    "\n",
    "data.head(2) # Se eu não passar nada dentro da função head() ela vai me voltar um dataframe com cinco linhas."
   ]
  },
  {
   "cell_type": "markdown",
   "metadata": {},
   "source": [
    "Dessa forma, pode-se perceber que eu escolhi trabalhar com a coluna que indica o conselho, a coluna de data da resolução, a coluna que indica o título da resolução, a coluna que contém o id da resolução, e as colunas que têm a quantidade de votos. \n",
    "\n",
    "Os tipos de votos são os seguintes: \n",
    "\n",
    "* Y - nação votou sim\n",
    "* N - nação votou não\n",
    "* X - nação escolheu por não votar \n",
    "* A - nação se absteve\n",
    "* [VAZIO] significa que a nação não estava na lista para votar\n"
   ]
  },
  {
   "cell_type": "code",
   "execution_count": 22,
   "metadata": {},
   "outputs": [
    {
     "data": {
      "text/html": [
       "<div>\n",
       "<style scoped>\n",
       "    .dataframe tbody tr th:only-of-type {\n",
       "        vertical-align: middle;\n",
       "    }\n",
       "\n",
       "    .dataframe tbody tr th {\n",
       "        vertical-align: top;\n",
       "    }\n",
       "\n",
       "    .dataframe thead th {\n",
       "        text-align: right;\n",
       "    }\n",
       "</style>\n",
       "<table border=\"1\" class=\"dataframe\">\n",
       "  <thead>\n",
       "    <tr style=\"text-align: right;\">\n",
       "      <th></th>\n",
       "      <th>council</th>\n",
       "      <th>date</th>\n",
       "      <th>title</th>\n",
       "      <th>resolution</th>\n",
       "      <th>total votes</th>\n",
       "      <th>no-vote count</th>\n",
       "      <th>absent count</th>\n",
       "      <th>no count</th>\n",
       "      <th>yes count</th>\n",
       "    </tr>\n",
       "  </thead>\n",
       "  <tbody>\n",
       "    <tr>\n",
       "      <th>0</th>\n",
       "      <td>Security Council</td>\n",
       "      <td>2016-12-13</td>\n",
       "      <td>Security Council resolution 2323 (2016) [on ex...</td>\n",
       "      <td>S/RES/2323(2016)</td>\n",
       "      <td>15</td>\n",
       "      <td>0</td>\n",
       "      <td>0</td>\n",
       "      <td>0</td>\n",
       "      <td>15</td>\n",
       "    </tr>\n",
       "    <tr>\n",
       "      <th>1</th>\n",
       "      <td>Security Council</td>\n",
       "      <td>2020-06-22</td>\n",
       "      <td>Security Council resolution 2527 (2020) [on ex...</td>\n",
       "      <td>S/RES/2527(2020)</td>\n",
       "      <td>15</td>\n",
       "      <td>0</td>\n",
       "      <td>0</td>\n",
       "      <td>0</td>\n",
       "      <td>15</td>\n",
       "    </tr>\n",
       "  </tbody>\n",
       "</table>\n",
       "</div>"
      ],
      "text/plain": [
       "            council        date  \\\n",
       "0  Security Council  2016-12-13   \n",
       "1  Security Council  2020-06-22   \n",
       "\n",
       "                                               title        resolution  \\\n",
       "0  Security Council resolution 2323 (2016) [on ex...  S/RES/2323(2016)   \n",
       "1  Security Council resolution 2527 (2020) [on ex...  S/RES/2527(2020)   \n",
       "\n",
       "   total votes  no-vote count  absent count  no count  yes count  \n",
       "0           15              0             0         0         15  \n",
       "1           15              0             0         0         15  "
      ]
     },
     "execution_count": 22,
     "metadata": {},
     "output_type": "execute_result"
    }
   ],
   "source": [
    "# Vou colocar todas as colunas do meu dataframe em lowercase para facilitar a exploração:\n",
    "\n",
    "data.columns = data.columns.str.lower()\n",
    "\n",
    "data.head(2)"
   ]
  },
  {
   "cell_type": "code",
   "execution_count": 23,
   "metadata": {},
   "outputs": [
    {
     "name": "stdout",
     "output_type": "stream",
     "text": [
      "<class 'pandas.core.frame.DataFrame'>\n",
      "RangeIndex: 7855 entries, 0 to 7854\n",
      "Data columns (total 9 columns):\n",
      " #   Column         Non-Null Count  Dtype \n",
      "---  ------         --------------  ----- \n",
      " 0   council        7855 non-null   object\n",
      " 1   date           7855 non-null   object\n",
      " 2   title          7855 non-null   object\n",
      " 3   resolution     7855 non-null   object\n",
      " 4   total votes    7855 non-null   int64 \n",
      " 5   no-vote count  7855 non-null   int64 \n",
      " 6   absent count   7855 non-null   int64 \n",
      " 7   no count       7855 non-null   int64 \n",
      " 8   yes count      7855 non-null   int64 \n",
      "dtypes: int64(5), object(4)\n",
      "memory usage: 552.4+ KB\n"
     ]
    }
   ],
   "source": [
    "# Obtendo informações gerais do dataframe: \n",
    "\n",
    "data.info()"
   ]
  },
  {
   "cell_type": "code",
   "execution_count": 24,
   "metadata": {},
   "outputs": [
    {
     "name": "stdout",
     "output_type": "stream",
     "text": [
      "(7855, 9)\n"
     ]
    }
   ],
   "source": [
    "# Verificando quantas linhas e colunas temos no dataframe: \n",
    "\n",
    "print(data.shape)"
   ]
  },
  {
   "cell_type": "code",
   "execution_count": 25,
   "metadata": {},
   "outputs": [
    {
     "data": {
      "text/plain": [
       "council          object\n",
       "date             object\n",
       "title            object\n",
       "resolution       object\n",
       "total votes       int64\n",
       "no-vote count     int64\n",
       "absent count      int64\n",
       "no count          int64\n",
       "yes count         int64\n",
       "dtype: object"
      ]
     },
     "execution_count": 25,
     "metadata": {},
     "output_type": "execute_result"
    }
   ],
   "source": [
    "# Checando os tipos das colunas do DataFrame: \n",
    "\n",
    "data.dtypes"
   ]
  },
  {
   "cell_type": "code",
   "execution_count": 29,
   "metadata": {},
   "outputs": [
    {
     "data": {
      "text/plain": [
       "council                  object\n",
       "date             datetime64[ns]\n",
       "title                    object\n",
       "resolution               object\n",
       "total votes               int64\n",
       "no-vote count             int64\n",
       "absent count              int64\n",
       "no count                  int64\n",
       "yes count                 int64\n",
       "Date             datetime64[ns]\n",
       "dtype: object"
      ]
     },
     "execution_count": 29,
     "metadata": {},
     "output_type": "execute_result"
    }
   ],
   "source": [
    "# A coluna Date está como tipo 'object', portanto iremos transformá-la para tipo Datetime.\n",
    "# Transformação da coluna Date de STRING para DATETIME: \n",
    "\n",
    "data['date'] = pd.to_datetime(data['date'])\n",
    "\n",
    "data.dtypes"
   ]
  },
  {
   "cell_type": "code",
   "execution_count": 30,
   "metadata": {},
   "outputs": [],
   "source": [
    "# Agora, com a data no formato correto, irei ordenar o dataframe pela data: \n",
    "\n",
    "data = data.sort_values(by = ['date'])"
   ]
  },
  {
   "cell_type": "code",
   "execution_count": 31,
   "metadata": {},
   "outputs": [
    {
     "data": {
      "text/html": [
       "<div>\n",
       "<style scoped>\n",
       "    .dataframe tbody tr th:only-of-type {\n",
       "        vertical-align: middle;\n",
       "    }\n",
       "\n",
       "    .dataframe tbody tr th {\n",
       "        vertical-align: top;\n",
       "    }\n",
       "\n",
       "    .dataframe thead th {\n",
       "        text-align: right;\n",
       "    }\n",
       "</style>\n",
       "<table border=\"1\" class=\"dataframe\">\n",
       "  <thead>\n",
       "    <tr style=\"text-align: right;\">\n",
       "      <th></th>\n",
       "      <th>council</th>\n",
       "      <th>date</th>\n",
       "      <th>title</th>\n",
       "      <th>resolution</th>\n",
       "      <th>total votes</th>\n",
       "      <th>no-vote count</th>\n",
       "      <th>absent count</th>\n",
       "      <th>no count</th>\n",
       "      <th>yes count</th>\n",
       "      <th>Date</th>\n",
       "      <th>year</th>\n",
       "      <th>month</th>\n",
       "      <th>year_month</th>\n",
       "    </tr>\n",
       "  </thead>\n",
       "  <tbody>\n",
       "    <tr>\n",
       "      <th>3889</th>\n",
       "      <td>Security Council</td>\n",
       "      <td>1946-01-25</td>\n",
       "      <td>Security Council resolution 1 (1946) [on estab...</td>\n",
       "      <td>S/RES/1(1946)</td>\n",
       "      <td>11</td>\n",
       "      <td>0</td>\n",
       "      <td>0</td>\n",
       "      <td>0</td>\n",
       "      <td>11</td>\n",
       "      <td>1946-01-25</td>\n",
       "      <td>1946</td>\n",
       "      <td>1</td>\n",
       "      <td>1-1946</td>\n",
       "    </tr>\n",
       "    <tr>\n",
       "      <th>2787</th>\n",
       "      <td>General Assembly</td>\n",
       "      <td>1946-01-26</td>\n",
       "      <td>Amendments to the provisional rules of procedu...</td>\n",
       "      <td>A/RES/17(I)[RULE-73]</td>\n",
       "      <td>51</td>\n",
       "      <td>8</td>\n",
       "      <td>0</td>\n",
       "      <td>18</td>\n",
       "      <td>25</td>\n",
       "      <td>1946-01-26</td>\n",
       "      <td>1946</td>\n",
       "      <td>1</td>\n",
       "      <td>1-1946</td>\n",
       "    </tr>\n",
       "  </tbody>\n",
       "</table>\n",
       "</div>"
      ],
      "text/plain": [
       "               council       date  \\\n",
       "3889  Security Council 1946-01-25   \n",
       "2787  General Assembly 1946-01-26   \n",
       "\n",
       "                                                  title            resolution  \\\n",
       "3889  Security Council resolution 1 (1946) [on estab...         S/RES/1(1946)   \n",
       "2787  Amendments to the provisional rules of procedu...  A/RES/17(I)[RULE-73]   \n",
       "\n",
       "      total votes  no-vote count  absent count  no count  yes count  \\\n",
       "3889           11              0             0         0         11   \n",
       "2787           51              8             0        18         25   \n",
       "\n",
       "           Date  year  month year_month  \n",
       "3889 1946-01-25  1946      1     1-1946  \n",
       "2787 1946-01-26  1946      1     1-1946  "
      ]
     },
     "execution_count": 31,
     "metadata": {},
     "output_type": "execute_result"
    }
   ],
   "source": [
    "# Para facilitar minhas análises, vou criar uma coluna com o ano e mês de cada resolução.\n",
    "\n",
    "# Criando uma coluna com apenas o ano da resolução:\n",
    "\n",
    "data['year'], data['month'] = data['date'].dt.year, data['date'].dt.month\n",
    "\n",
    "# Criando uma coluna com ano e mês:\n",
    "\n",
    "data['year_month'] = (data['month']).astype(str) + '-' +  (data['year']).astype(str)\n",
    "\n",
    "data.head(2)"
   ]
  },
  {
   "cell_type": "code",
   "execution_count": 33,
   "metadata": {},
   "outputs": [
    {
     "data": {
      "text/plain": [
       "array(['Security Council', 'General Assembly'], dtype=object)"
      ]
     },
     "execution_count": 33,
     "metadata": {},
     "output_type": "execute_result"
    }
   ],
   "source": [
    "# Quantos conselhos temos? \n",
    "\n",
    "data.council.unique()"
   ]
  },
  {
   "cell_type": "code",
   "execution_count": 88,
   "metadata": {},
   "outputs": [
    {
     "data": {
      "text/html": [
       "<div>\n",
       "<style scoped>\n",
       "    .dataframe tbody tr th:only-of-type {\n",
       "        vertical-align: middle;\n",
       "    }\n",
       "\n",
       "    .dataframe tbody tr th {\n",
       "        vertical-align: top;\n",
       "    }\n",
       "\n",
       "    .dataframe thead th {\n",
       "        text-align: right;\n",
       "    }\n",
       "</style>\n",
       "<table border=\"1\" class=\"dataframe\">\n",
       "  <thead>\n",
       "    <tr style=\"text-align: right;\">\n",
       "      <th></th>\n",
       "      <th>year</th>\n",
       "      <th>resolution</th>\n",
       "    </tr>\n",
       "  </thead>\n",
       "  <tbody>\n",
       "    <tr>\n",
       "      <th>0</th>\n",
       "      <td>1946</td>\n",
       "      <td>41</td>\n",
       "    </tr>\n",
       "  </tbody>\n",
       "</table>\n",
       "</div>"
      ],
      "text/plain": [
       "   year  resolution\n",
       "0  1946  41        "
      ]
     },
     "execution_count": 88,
     "metadata": {},
     "output_type": "execute_result"
    }
   ],
   "source": [
    "# Qual a quantidade de resoluções por ano? Sem levar em consideração cada conselho.\n",
    "\n",
    "res_ano = data['resolution'].groupby(data['year']).count().reset_index()\n",
    "res_ano.head(1)"
   ]
  },
  {
   "cell_type": "code",
   "execution_count": 74,
   "metadata": {},
   "outputs": [
    {
     "data": {
      "text/html": [
       "<div>\n",
       "<style scoped>\n",
       "    .dataframe tbody tr th:only-of-type {\n",
       "        vertical-align: middle;\n",
       "    }\n",
       "\n",
       "    .dataframe tbody tr th {\n",
       "        vertical-align: top;\n",
       "    }\n",
       "\n",
       "    .dataframe thead th {\n",
       "        text-align: right;\n",
       "    }\n",
       "</style>\n",
       "<table border=\"1\" class=\"dataframe\">\n",
       "  <thead>\n",
       "    <tr style=\"text-align: right;\">\n",
       "      <th></th>\n",
       "      <th>year</th>\n",
       "      <th>title</th>\n",
       "    </tr>\n",
       "  </thead>\n",
       "  <tbody>\n",
       "    <tr>\n",
       "      <th>0</th>\n",
       "      <td>1982</td>\n",
       "      <td>Security Council resolution 500 (1982) [on convening of an emergency special session of the General Assembly on territories occupied by Israel]</td>\n",
       "    </tr>\n",
       "    <tr>\n",
       "      <th>1</th>\n",
       "      <td>1982</td>\n",
       "      <td>The situation in the occupied Arab territories : resolution / adopted by the General Assembly</td>\n",
       "    </tr>\n",
       "  </tbody>\n",
       "</table>\n",
       "</div>"
      ],
      "text/plain": [
       "   year  \\\n",
       "0  1982   \n",
       "1  1982   \n",
       "\n",
       "                                                                                                                                             title  \n",
       "0  Security Council resolution 500 (1982) [on convening of an emergency special session of the General Assembly on territories occupied by Israel]  \n",
       "1  The situation in the occupied Arab territories : resolution / adopted by the General Assembly                                                    "
      ]
     },
     "execution_count": 74,
     "metadata": {},
     "output_type": "execute_result"
    }
   ],
   "source": [
    "# Consultando todas as resoluções por ano (de acordo com o ano escolhido pelo usuário):\n",
    "\n",
    "consulta_ano = input(\"Ano de Consulta: \")\n",
    "\n",
    "\n",
    "select_colunas = data[['year','title']]\n",
    "consulta_res_ano = select_colunas[(select_colunas[\"year\"] == int(consulta_ano))].reset_index(drop = True)\n",
    "\n",
    "consulta_res_ano.head(2)"
   ]
  },
  {
   "cell_type": "code",
   "execution_count": 79,
   "metadata": {},
   "outputs": [
    {
     "data": {
      "text/html": [
       "<div>\n",
       "<style scoped>\n",
       "    .dataframe tbody tr th:only-of-type {\n",
       "        vertical-align: middle;\n",
       "    }\n",
       "\n",
       "    .dataframe tbody tr th {\n",
       "        vertical-align: top;\n",
       "    }\n",
       "\n",
       "    .dataframe thead th {\n",
       "        text-align: right;\n",
       "    }\n",
       "</style>\n",
       "<table border=\"1\" class=\"dataframe\">\n",
       "  <thead>\n",
       "    <tr style=\"text-align: right;\">\n",
       "      <th>council</th>\n",
       "      <th>year</th>\n",
       "      <th>General Assembly</th>\n",
       "      <th>Security Council</th>\n",
       "    </tr>\n",
       "  </thead>\n",
       "  <tbody>\n",
       "    <tr>\n",
       "      <th>0</th>\n",
       "      <td>1946</td>\n",
       "      <td>26.0</td>\n",
       "      <td>15.0</td>\n",
       "    </tr>\n",
       "    <tr>\n",
       "      <th>1</th>\n",
       "      <td>1947</td>\n",
       "      <td>13.0</td>\n",
       "      <td>22.0</td>\n",
       "    </tr>\n",
       "  </tbody>\n",
       "</table>\n",
       "</div>"
      ],
      "text/plain": [
       "council  year  General Assembly  Security Council\n",
       "0        1946  26.0              15.0            \n",
       "1        1947  13.0              22.0            "
      ]
     },
     "execution_count": 79,
     "metadata": {},
     "output_type": "execute_result"
    }
   ],
   "source": [
    "# Quantidade de resoluções por ano e por Conselho:\n",
    "\n",
    "council_res_ano = pd.pivot_table(data,\n",
    "    columns = 'council',\n",
    "    index = 'year',\n",
    "    values = 'resolution',\n",
    "    aggfunc = pd.Series.nunique\n",
    ").reset_index()\n",
    "\n",
    "council_res_ano.head(2)"
   ]
  },
  {
   "cell_type": "code",
   "execution_count": 78,
   "metadata": {},
   "outputs": [
    {
     "data": {
      "text/html": [
       "<div>\n",
       "<style scoped>\n",
       "    .dataframe tbody tr th:only-of-type {\n",
       "        vertical-align: middle;\n",
       "    }\n",
       "\n",
       "    .dataframe tbody tr th {\n",
       "        vertical-align: top;\n",
       "    }\n",
       "\n",
       "    .dataframe thead th {\n",
       "        text-align: right;\n",
       "    }\n",
       "</style>\n",
       "<table border=\"1\" class=\"dataframe\">\n",
       "  <thead>\n",
       "    <tr style=\"text-align: right;\">\n",
       "      <th></th>\n",
       "      <th>year</th>\n",
       "      <th>resolution</th>\n",
       "    </tr>\n",
       "  </thead>\n",
       "  <tbody>\n",
       "    <tr>\n",
       "      <th>0</th>\n",
       "      <td>1993</td>\n",
       "      <td>93</td>\n",
       "    </tr>\n",
       "    <tr>\n",
       "      <th>1</th>\n",
       "      <td>2006</td>\n",
       "      <td>87</td>\n",
       "    </tr>\n",
       "    <tr>\n",
       "      <th>2</th>\n",
       "      <td>2016</td>\n",
       "      <td>77</td>\n",
       "    </tr>\n",
       "    <tr>\n",
       "      <th>3</th>\n",
       "      <td>1994</td>\n",
       "      <td>77</td>\n",
       "    </tr>\n",
       "    <tr>\n",
       "      <th>4</th>\n",
       "      <td>1992</td>\n",
       "      <td>74</td>\n",
       "    </tr>\n",
       "  </tbody>\n",
       "</table>\n",
       "</div>"
      ],
      "text/plain": [
       "   year  resolution\n",
       "0  1993  93        \n",
       "1  2006  87        \n",
       "2  2016  77        \n",
       "3  1994  77        \n",
       "4  1992  74        "
      ]
     },
     "execution_count": 78,
     "metadata": {},
     "output_type": "execute_result"
    }
   ],
   "source": [
    "# Em qual ano tivemos mais resoluções no CSNU? \n",
    "\n",
    "data_filtered = data[data['council']=='Security Council']\n",
    "\n",
    "council_res_ano_max = data_filtered['resolution'].groupby(data_filtered['year']).count().reset_index()\n",
    "\n",
    "max_sc = council_res_ano_max.sort_values('resolution', ascending = False).reset_index().drop(['index'],axis=1)\n",
    "\n",
    "max_sc.head() "
   ]
  },
  {
   "cell_type": "code",
   "execution_count": 80,
   "metadata": {},
   "outputs": [
    {
     "data": {
      "text/html": [
       "<div>\n",
       "<style scoped>\n",
       "    .dataframe tbody tr th:only-of-type {\n",
       "        vertical-align: middle;\n",
       "    }\n",
       "\n",
       "    .dataframe tbody tr th {\n",
       "        vertical-align: top;\n",
       "    }\n",
       "\n",
       "    .dataframe thead th {\n",
       "        text-align: right;\n",
       "    }\n",
       "</style>\n",
       "<table border=\"1\" class=\"dataframe\">\n",
       "  <thead>\n",
       "    <tr style=\"text-align: right;\">\n",
       "      <th></th>\n",
       "      <th>year</th>\n",
       "      <th>resolution</th>\n",
       "    </tr>\n",
       "  </thead>\n",
       "  <tbody>\n",
       "    <tr>\n",
       "      <th>0</th>\n",
       "      <td>1982</td>\n",
       "      <td>165</td>\n",
       "    </tr>\n",
       "    <tr>\n",
       "      <th>1</th>\n",
       "      <td>1986</td>\n",
       "      <td>156</td>\n",
       "    </tr>\n",
       "    <tr>\n",
       "      <th>2</th>\n",
       "      <td>1985</td>\n",
       "      <td>156</td>\n",
       "    </tr>\n",
       "    <tr>\n",
       "      <th>3</th>\n",
       "      <td>1984</td>\n",
       "      <td>149</td>\n",
       "    </tr>\n",
       "    <tr>\n",
       "      <th>4</th>\n",
       "      <td>1979</td>\n",
       "      <td>148</td>\n",
       "    </tr>\n",
       "  </tbody>\n",
       "</table>\n",
       "</div>"
      ],
      "text/plain": [
       "   year  resolution\n",
       "0  1982  165       \n",
       "1  1986  156       \n",
       "2  1985  156       \n",
       "3  1984  149       \n",
       "4  1979  148       "
      ]
     },
     "execution_count": 80,
     "metadata": {},
     "output_type": "execute_result"
    }
   ],
   "source": [
    "# Em qual ano tivemos mais resoluções da Assembleia Geral? \n",
    "\n",
    "data_filtered = data[data['council']=='General Assembly']\n",
    "\n",
    "council_res_ano_max = data_filtered['resolution'].groupby(data_filtered['year']).count().reset_index()\n",
    "\n",
    "max_ga = council_res_ano_max.sort_values('resolution', ascending = False).reset_index().drop(['index'],axis=1)\n",
    "\n",
    "max_ga.head() ## 1982 foi o ano com mais resoluções "
   ]
  },
  {
   "cell_type": "code",
   "execution_count": 90,
   "metadata": {},
   "outputs": [
    {
     "name": "stdout",
     "output_type": "stream",
     "text": [
      "\n",
      " Security Council\n",
      "\n",
      "    year  yes count\n",
      "0  1993  1320     \n",
      "1  2006  1251     \n",
      "2  2016  1126     \n",
      "3  1998  1088     \n",
      "4  1994  1086     \n",
      "\n",
      "    year  no count\n",
      "0  1991  7       \n",
      "1  1990  6       \n",
      "2  1950  6       \n",
      "3  1947  4       \n",
      "4  2010  4       \n",
      "\n",
      "    year  absent count\n",
      "0  1948  51          \n",
      "1  1978  38          \n",
      "2  1979  35          \n",
      "3  1947  27          \n",
      "4  2018  27          \n",
      "\n",
      " General Assembly\n",
      "\n",
      "    year  yes count\n",
      "0  1982  19872    \n",
      "1  1986  19847    \n",
      "2  1985  19290    \n",
      "3  1987  18824    \n",
      "4  1988  18243    \n",
      "\n",
      "    year  no count\n",
      "0  2018  1365    \n",
      "1  2020  1293    \n",
      "2  2019  1237    \n",
      "3  2021  1177    \n",
      "4  2017  1099    \n",
      "\n",
      "    year  absent count\n",
      "0  1986  2683        \n",
      "1  1985  2681        \n",
      "2  1982  2495        \n",
      "3  2018  2289        \n",
      "4  2019  2286        \n"
     ]
    }
   ],
   "source": [
    "# Em qual ano o Conselho de Segurança e Assembleia Geral tiveram a maior quantidade de votos Yes, No e Absent?\n",
    "\n",
    "lista_votos = ['yes count', 'no count', 'absent count']\n",
    "\n",
    "lista_conselhos = ['Security Council', 'General Assembly']\n",
    "\n",
    "for council in lista_conselhos:\n",
    "  \n",
    "  df_filtered_council = data[data['council'] == council]\n",
    "  print(\"\\n\", council)\n",
    "\n",
    "  for x in lista_votos:\n",
    "  \n",
    "    df_resolution_yes_sc = df_filtered_council[x].groupby(df_filtered_council['year']).sum().reset_index()\n",
    "  \n",
    "    ano_mais_yes = df_resolution_yes_sc.sort_values(x, ascending = False).reset_index().drop(['index'],axis=1)\n",
    "  \n",
    "    print(\"\\n\", ano_mais_yes.head())"
   ]
  },
  {
   "cell_type": "code",
   "execution_count": null,
   "metadata": {},
   "outputs": [],
   "source": []
  }
 ],
 "metadata": {
  "interpreter": {
   "hash": "52634da84371cba311ea128a5ea7cdc41ff074b781779e754b270ff9f8153cee"
  },
  "kernelspec": {
   "display_name": "Python 3.10.2 64-bit",
   "language": "python",
   "name": "python3"
  },
  "language_info": {
   "codemirror_mode": {
    "name": "ipython",
    "version": 3
   },
   "file_extension": ".py",
   "mimetype": "text/x-python",
   "name": "python",
   "nbconvert_exporter": "python",
   "pygments_lexer": "ipython3",
   "version": "3.10.2"
  },
  "orig_nbformat": 4
 },
 "nbformat": 4,
 "nbformat_minor": 2
}
